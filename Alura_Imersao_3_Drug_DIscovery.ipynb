{
  "nbformat": 4,
  "nbformat_minor": 0,
  "metadata": {
    "colab": {
      "name": "Alura_Imersao_3_Drug_DIscovery",
      "provenance": [],
      "collapsed_sections": [
        "y8wmzbIESzer",
        "0edia5NJX0NV",
        "ZhnVhDFpdHYs",
        "dbEMI10ybGpk",
        "ByJZNcQnH7tZ"
      ],
      "authorship_tag": "ABX9TyPh2G6d1LJJSx1bDlwbqlu6",
      "include_colab_link": true
    },
    "kernelspec": {
      "name": "python3",
      "display_name": "Python 3"
    },
    "language_info": {
      "name": "python"
    }
  },
  "cells": [
    {
      "cell_type": "markdown",
      "metadata": {
        "id": "view-in-github",
        "colab_type": "text"
      },
      "source": [
        "<a href=\"https://colab.research.google.com/github/Lucas-Abrahao/Alura-Imersao-3/blob/main/Alura_Imersao_3_Drug_DIscovery.ipynb\" target=\"_parent\"><img src=\"https://colab.research.google.com/assets/colab-badge.svg\" alt=\"Open In Colab\"/></a>"
      ]
    },
    {
      "cell_type": "code",
      "execution_count": 2,
      "metadata": {
        "colab": {
          "base_uri": "https://localhost:8080/",
          "height": 487
        },
        "id": "jSAWryuuMbPm",
        "outputId": "a3f7a736-62bf-4b0a-8fbb-d999fe2bdf8c"
      },
      "outputs": [
        {
          "output_type": "execute_result",
          "data": {
            "text/plain": [
              "                 id    tratamento  tempo dose      droga     g-0     g-1  \\\n",
              "0      id_000644bb2     com_droga     24   D1  b68db1d53  1.0620  0.5577   \n",
              "1      id_000779bfc     com_droga     72   D1  df89a8e5a  0.0743  0.4087   \n",
              "2      id_000a6266a     com_droga     48   D1  18bb41b2c  0.6280  0.5817   \n",
              "3      id_0015fd391     com_droga     48   D1  8c7f86626 -0.5138 -0.2491   \n",
              "4      id_001626bd3     com_droga     72   D2  7cbed3131 -0.3254 -0.4009   \n",
              "...             ...           ...    ...  ...        ...     ...     ...   \n",
              "23809  id_fffb1ceed     com_droga     24   D2  df1d0a5a1  0.1394 -0.0636   \n",
              "23810  id_fffb70c0c     com_droga     24   D2  ecf3b6b74 -1.3260  0.3478   \n",
              "23811  id_fffc1c3f4  com_controle     48   D2  cacb2b860  0.3942  0.3756   \n",
              "23812  id_fffcb9e7c     com_droga     24   D1  8b87a7a83  0.6660  0.2324   \n",
              "23813  id_ffffdd77b     com_droga     72   D1  972f41291 -0.8598  1.0240   \n",
              "\n",
              "          g-2     g-3     g-4  ...    c-90    c-91    c-92    c-93    c-94  \\\n",
              "0     -0.2479 -0.6208 -0.1944  ...  0.2862  0.2584  0.8076  0.5523 -0.1912   \n",
              "1      0.2991  0.0604  1.0190  ... -0.4265  0.7543  0.4708  0.0230  0.2957   \n",
              "2      1.5540 -0.0764 -0.0323  ... -0.7250 -0.6297  0.6103  0.0223 -1.3240   \n",
              "3     -0.2656  0.5288  4.0620  ... -2.0990 -0.6441 -5.6300 -1.3780 -0.8632   \n",
              "4      0.9700  0.6919  1.4180  ...  0.0042  0.0048  0.6670  1.0690  0.5523   \n",
              "...       ...     ...     ...  ...     ...     ...     ...     ...     ...   \n",
              "23809 -0.1112 -0.5080 -0.4713  ...  0.1969  0.0262 -0.8121  0.3434  0.5372   \n",
              "23810 -0.3743  0.9905 -0.7178  ...  0.4286  0.4426  0.0423 -0.3195 -0.8086   \n",
              "23811  0.3109 -0.7389  0.5505  ...  0.5409  0.3755  0.7343  0.2807  0.4116   \n",
              "23812  0.4392  0.2044  0.8531  ... -0.1105  0.4258 -0.2012  0.1506  1.5230   \n",
              "23813 -0.1361  0.7952 -0.3611  ... -3.3890 -1.7450 -6.6300 -4.0950 -7.3860   \n",
              "\n",
              "         c-95    c-96    c-97    c-98    c-99  \n",
              "0      0.6584 -0.3981  0.2139  0.3801  0.4176  \n",
              "1      0.4899  0.1522  0.1241  0.6077  0.7371  \n",
              "2     -0.3174 -0.6417 -0.2187 -1.4080  0.6931  \n",
              "3     -1.2880 -1.6210 -0.8784 -0.3876 -0.8154  \n",
              "4     -0.3031  0.1094  0.2885 -0.3786  0.7125  \n",
              "...       ...     ...     ...     ...     ...  \n",
              "23809 -0.3246  0.0631  0.9171  0.5258  0.4680  \n",
              "23810 -0.9798 -0.2084 -0.1224 -0.2715  0.3689  \n",
              "23811  0.6422  0.2256  0.7592  0.6656  0.3808  \n",
              "23812  0.7101  0.1732  0.7015 -0.6290  0.0740  \n",
              "23813 -1.4160 -3.5770 -0.4775 -2.1500 -4.2520  \n",
              "\n",
              "[23814 rows x 877 columns]"
            ],
            "text/html": [
              "\n",
              "  <div id=\"df-f8f3f8ca-3969-4aff-9c3b-65f4ad7fab63\">\n",
              "    <div class=\"colab-df-container\">\n",
              "      <div>\n",
              "<style scoped>\n",
              "    .dataframe tbody tr th:only-of-type {\n",
              "        vertical-align: middle;\n",
              "    }\n",
              "\n",
              "    .dataframe tbody tr th {\n",
              "        vertical-align: top;\n",
              "    }\n",
              "\n",
              "    .dataframe thead th {\n",
              "        text-align: right;\n",
              "    }\n",
              "</style>\n",
              "<table border=\"1\" class=\"dataframe\">\n",
              "  <thead>\n",
              "    <tr style=\"text-align: right;\">\n",
              "      <th></th>\n",
              "      <th>id</th>\n",
              "      <th>tratamento</th>\n",
              "      <th>tempo</th>\n",
              "      <th>dose</th>\n",
              "      <th>droga</th>\n",
              "      <th>g-0</th>\n",
              "      <th>g-1</th>\n",
              "      <th>g-2</th>\n",
              "      <th>g-3</th>\n",
              "      <th>g-4</th>\n",
              "      <th>...</th>\n",
              "      <th>c-90</th>\n",
              "      <th>c-91</th>\n",
              "      <th>c-92</th>\n",
              "      <th>c-93</th>\n",
              "      <th>c-94</th>\n",
              "      <th>c-95</th>\n",
              "      <th>c-96</th>\n",
              "      <th>c-97</th>\n",
              "      <th>c-98</th>\n",
              "      <th>c-99</th>\n",
              "    </tr>\n",
              "  </thead>\n",
              "  <tbody>\n",
              "    <tr>\n",
              "      <th>0</th>\n",
              "      <td>id_000644bb2</td>\n",
              "      <td>com_droga</td>\n",
              "      <td>24</td>\n",
              "      <td>D1</td>\n",
              "      <td>b68db1d53</td>\n",
              "      <td>1.0620</td>\n",
              "      <td>0.5577</td>\n",
              "      <td>-0.2479</td>\n",
              "      <td>-0.6208</td>\n",
              "      <td>-0.1944</td>\n",
              "      <td>...</td>\n",
              "      <td>0.2862</td>\n",
              "      <td>0.2584</td>\n",
              "      <td>0.8076</td>\n",
              "      <td>0.5523</td>\n",
              "      <td>-0.1912</td>\n",
              "      <td>0.6584</td>\n",
              "      <td>-0.3981</td>\n",
              "      <td>0.2139</td>\n",
              "      <td>0.3801</td>\n",
              "      <td>0.4176</td>\n",
              "    </tr>\n",
              "    <tr>\n",
              "      <th>1</th>\n",
              "      <td>id_000779bfc</td>\n",
              "      <td>com_droga</td>\n",
              "      <td>72</td>\n",
              "      <td>D1</td>\n",
              "      <td>df89a8e5a</td>\n",
              "      <td>0.0743</td>\n",
              "      <td>0.4087</td>\n",
              "      <td>0.2991</td>\n",
              "      <td>0.0604</td>\n",
              "      <td>1.0190</td>\n",
              "      <td>...</td>\n",
              "      <td>-0.4265</td>\n",
              "      <td>0.7543</td>\n",
              "      <td>0.4708</td>\n",
              "      <td>0.0230</td>\n",
              "      <td>0.2957</td>\n",
              "      <td>0.4899</td>\n",
              "      <td>0.1522</td>\n",
              "      <td>0.1241</td>\n",
              "      <td>0.6077</td>\n",
              "      <td>0.7371</td>\n",
              "    </tr>\n",
              "    <tr>\n",
              "      <th>2</th>\n",
              "      <td>id_000a6266a</td>\n",
              "      <td>com_droga</td>\n",
              "      <td>48</td>\n",
              "      <td>D1</td>\n",
              "      <td>18bb41b2c</td>\n",
              "      <td>0.6280</td>\n",
              "      <td>0.5817</td>\n",
              "      <td>1.5540</td>\n",
              "      <td>-0.0764</td>\n",
              "      <td>-0.0323</td>\n",
              "      <td>...</td>\n",
              "      <td>-0.7250</td>\n",
              "      <td>-0.6297</td>\n",
              "      <td>0.6103</td>\n",
              "      <td>0.0223</td>\n",
              "      <td>-1.3240</td>\n",
              "      <td>-0.3174</td>\n",
              "      <td>-0.6417</td>\n",
              "      <td>-0.2187</td>\n",
              "      <td>-1.4080</td>\n",
              "      <td>0.6931</td>\n",
              "    </tr>\n",
              "    <tr>\n",
              "      <th>3</th>\n",
              "      <td>id_0015fd391</td>\n",
              "      <td>com_droga</td>\n",
              "      <td>48</td>\n",
              "      <td>D1</td>\n",
              "      <td>8c7f86626</td>\n",
              "      <td>-0.5138</td>\n",
              "      <td>-0.2491</td>\n",
              "      <td>-0.2656</td>\n",
              "      <td>0.5288</td>\n",
              "      <td>4.0620</td>\n",
              "      <td>...</td>\n",
              "      <td>-2.0990</td>\n",
              "      <td>-0.6441</td>\n",
              "      <td>-5.6300</td>\n",
              "      <td>-1.3780</td>\n",
              "      <td>-0.8632</td>\n",
              "      <td>-1.2880</td>\n",
              "      <td>-1.6210</td>\n",
              "      <td>-0.8784</td>\n",
              "      <td>-0.3876</td>\n",
              "      <td>-0.8154</td>\n",
              "    </tr>\n",
              "    <tr>\n",
              "      <th>4</th>\n",
              "      <td>id_001626bd3</td>\n",
              "      <td>com_droga</td>\n",
              "      <td>72</td>\n",
              "      <td>D2</td>\n",
              "      <td>7cbed3131</td>\n",
              "      <td>-0.3254</td>\n",
              "      <td>-0.4009</td>\n",
              "      <td>0.9700</td>\n",
              "      <td>0.6919</td>\n",
              "      <td>1.4180</td>\n",
              "      <td>...</td>\n",
              "      <td>0.0042</td>\n",
              "      <td>0.0048</td>\n",
              "      <td>0.6670</td>\n",
              "      <td>1.0690</td>\n",
              "      <td>0.5523</td>\n",
              "      <td>-0.3031</td>\n",
              "      <td>0.1094</td>\n",
              "      <td>0.2885</td>\n",
              "      <td>-0.3786</td>\n",
              "      <td>0.7125</td>\n",
              "    </tr>\n",
              "    <tr>\n",
              "      <th>...</th>\n",
              "      <td>...</td>\n",
              "      <td>...</td>\n",
              "      <td>...</td>\n",
              "      <td>...</td>\n",
              "      <td>...</td>\n",
              "      <td>...</td>\n",
              "      <td>...</td>\n",
              "      <td>...</td>\n",
              "      <td>...</td>\n",
              "      <td>...</td>\n",
              "      <td>...</td>\n",
              "      <td>...</td>\n",
              "      <td>...</td>\n",
              "      <td>...</td>\n",
              "      <td>...</td>\n",
              "      <td>...</td>\n",
              "      <td>...</td>\n",
              "      <td>...</td>\n",
              "      <td>...</td>\n",
              "      <td>...</td>\n",
              "      <td>...</td>\n",
              "    </tr>\n",
              "    <tr>\n",
              "      <th>23809</th>\n",
              "      <td>id_fffb1ceed</td>\n",
              "      <td>com_droga</td>\n",
              "      <td>24</td>\n",
              "      <td>D2</td>\n",
              "      <td>df1d0a5a1</td>\n",
              "      <td>0.1394</td>\n",
              "      <td>-0.0636</td>\n",
              "      <td>-0.1112</td>\n",
              "      <td>-0.5080</td>\n",
              "      <td>-0.4713</td>\n",
              "      <td>...</td>\n",
              "      <td>0.1969</td>\n",
              "      <td>0.0262</td>\n",
              "      <td>-0.8121</td>\n",
              "      <td>0.3434</td>\n",
              "      <td>0.5372</td>\n",
              "      <td>-0.3246</td>\n",
              "      <td>0.0631</td>\n",
              "      <td>0.9171</td>\n",
              "      <td>0.5258</td>\n",
              "      <td>0.4680</td>\n",
              "    </tr>\n",
              "    <tr>\n",
              "      <th>23810</th>\n",
              "      <td>id_fffb70c0c</td>\n",
              "      <td>com_droga</td>\n",
              "      <td>24</td>\n",
              "      <td>D2</td>\n",
              "      <td>ecf3b6b74</td>\n",
              "      <td>-1.3260</td>\n",
              "      <td>0.3478</td>\n",
              "      <td>-0.3743</td>\n",
              "      <td>0.9905</td>\n",
              "      <td>-0.7178</td>\n",
              "      <td>...</td>\n",
              "      <td>0.4286</td>\n",
              "      <td>0.4426</td>\n",
              "      <td>0.0423</td>\n",
              "      <td>-0.3195</td>\n",
              "      <td>-0.8086</td>\n",
              "      <td>-0.9798</td>\n",
              "      <td>-0.2084</td>\n",
              "      <td>-0.1224</td>\n",
              "      <td>-0.2715</td>\n",
              "      <td>0.3689</td>\n",
              "    </tr>\n",
              "    <tr>\n",
              "      <th>23811</th>\n",
              "      <td>id_fffc1c3f4</td>\n",
              "      <td>com_controle</td>\n",
              "      <td>48</td>\n",
              "      <td>D2</td>\n",
              "      <td>cacb2b860</td>\n",
              "      <td>0.3942</td>\n",
              "      <td>0.3756</td>\n",
              "      <td>0.3109</td>\n",
              "      <td>-0.7389</td>\n",
              "      <td>0.5505</td>\n",
              "      <td>...</td>\n",
              "      <td>0.5409</td>\n",
              "      <td>0.3755</td>\n",
              "      <td>0.7343</td>\n",
              "      <td>0.2807</td>\n",
              "      <td>0.4116</td>\n",
              "      <td>0.6422</td>\n",
              "      <td>0.2256</td>\n",
              "      <td>0.7592</td>\n",
              "      <td>0.6656</td>\n",
              "      <td>0.3808</td>\n",
              "    </tr>\n",
              "    <tr>\n",
              "      <th>23812</th>\n",
              "      <td>id_fffcb9e7c</td>\n",
              "      <td>com_droga</td>\n",
              "      <td>24</td>\n",
              "      <td>D1</td>\n",
              "      <td>8b87a7a83</td>\n",
              "      <td>0.6660</td>\n",
              "      <td>0.2324</td>\n",
              "      <td>0.4392</td>\n",
              "      <td>0.2044</td>\n",
              "      <td>0.8531</td>\n",
              "      <td>...</td>\n",
              "      <td>-0.1105</td>\n",
              "      <td>0.4258</td>\n",
              "      <td>-0.2012</td>\n",
              "      <td>0.1506</td>\n",
              "      <td>1.5230</td>\n",
              "      <td>0.7101</td>\n",
              "      <td>0.1732</td>\n",
              "      <td>0.7015</td>\n",
              "      <td>-0.6290</td>\n",
              "      <td>0.0740</td>\n",
              "    </tr>\n",
              "    <tr>\n",
              "      <th>23813</th>\n",
              "      <td>id_ffffdd77b</td>\n",
              "      <td>com_droga</td>\n",
              "      <td>72</td>\n",
              "      <td>D1</td>\n",
              "      <td>972f41291</td>\n",
              "      <td>-0.8598</td>\n",
              "      <td>1.0240</td>\n",
              "      <td>-0.1361</td>\n",
              "      <td>0.7952</td>\n",
              "      <td>-0.3611</td>\n",
              "      <td>...</td>\n",
              "      <td>-3.3890</td>\n",
              "      <td>-1.7450</td>\n",
              "      <td>-6.6300</td>\n",
              "      <td>-4.0950</td>\n",
              "      <td>-7.3860</td>\n",
              "      <td>-1.4160</td>\n",
              "      <td>-3.5770</td>\n",
              "      <td>-0.4775</td>\n",
              "      <td>-2.1500</td>\n",
              "      <td>-4.2520</td>\n",
              "    </tr>\n",
              "  </tbody>\n",
              "</table>\n",
              "<p>23814 rows × 877 columns</p>\n",
              "</div>\n",
              "      <button class=\"colab-df-convert\" onclick=\"convertToInteractive('df-f8f3f8ca-3969-4aff-9c3b-65f4ad7fab63')\"\n",
              "              title=\"Convert this dataframe to an interactive table.\"\n",
              "              style=\"display:none;\">\n",
              "        \n",
              "  <svg xmlns=\"http://www.w3.org/2000/svg\" height=\"24px\"viewBox=\"0 0 24 24\"\n",
              "       width=\"24px\">\n",
              "    <path d=\"M0 0h24v24H0V0z\" fill=\"none\"/>\n",
              "    <path d=\"M18.56 5.44l.94 2.06.94-2.06 2.06-.94-2.06-.94-.94-2.06-.94 2.06-2.06.94zm-11 1L8.5 8.5l.94-2.06 2.06-.94-2.06-.94L8.5 2.5l-.94 2.06-2.06.94zm10 10l.94 2.06.94-2.06 2.06-.94-2.06-.94-.94-2.06-.94 2.06-2.06.94z\"/><path d=\"M17.41 7.96l-1.37-1.37c-.4-.4-.92-.59-1.43-.59-.52 0-1.04.2-1.43.59L10.3 9.45l-7.72 7.72c-.78.78-.78 2.05 0 2.83L4 21.41c.39.39.9.59 1.41.59.51 0 1.02-.2 1.41-.59l7.78-7.78 2.81-2.81c.8-.78.8-2.07 0-2.86zM5.41 20L4 18.59l7.72-7.72 1.47 1.35L5.41 20z\"/>\n",
              "  </svg>\n",
              "      </button>\n",
              "      \n",
              "  <style>\n",
              "    .colab-df-container {\n",
              "      display:flex;\n",
              "      flex-wrap:wrap;\n",
              "      gap: 12px;\n",
              "    }\n",
              "\n",
              "    .colab-df-convert {\n",
              "      background-color: #E8F0FE;\n",
              "      border: none;\n",
              "      border-radius: 50%;\n",
              "      cursor: pointer;\n",
              "      display: none;\n",
              "      fill: #1967D2;\n",
              "      height: 32px;\n",
              "      padding: 0 0 0 0;\n",
              "      width: 32px;\n",
              "    }\n",
              "\n",
              "    .colab-df-convert:hover {\n",
              "      background-color: #E2EBFA;\n",
              "      box-shadow: 0px 1px 2px rgba(60, 64, 67, 0.3), 0px 1px 3px 1px rgba(60, 64, 67, 0.15);\n",
              "      fill: #174EA6;\n",
              "    }\n",
              "\n",
              "    [theme=dark] .colab-df-convert {\n",
              "      background-color: #3B4455;\n",
              "      fill: #D2E3FC;\n",
              "    }\n",
              "\n",
              "    [theme=dark] .colab-df-convert:hover {\n",
              "      background-color: #434B5C;\n",
              "      box-shadow: 0px 1px 3px 1px rgba(0, 0, 0, 0.15);\n",
              "      filter: drop-shadow(0px 1px 2px rgba(0, 0, 0, 0.3));\n",
              "      fill: #FFFFFF;\n",
              "    }\n",
              "  </style>\n",
              "\n",
              "      <script>\n",
              "        const buttonEl =\n",
              "          document.querySelector('#df-f8f3f8ca-3969-4aff-9c3b-65f4ad7fab63 button.colab-df-convert');\n",
              "        buttonEl.style.display =\n",
              "          google.colab.kernel.accessAllowed ? 'block' : 'none';\n",
              "\n",
              "        async function convertToInteractive(key) {\n",
              "          const element = document.querySelector('#df-f8f3f8ca-3969-4aff-9c3b-65f4ad7fab63');\n",
              "          const dataTable =\n",
              "            await google.colab.kernel.invokeFunction('convertToInteractive',\n",
              "                                                     [key], {});\n",
              "          if (!dataTable) return;\n",
              "\n",
              "          const docLinkHtml = 'Like what you see? Visit the ' +\n",
              "            '<a target=\"_blank\" href=https://colab.research.google.com/notebooks/data_table.ipynb>data table notebook</a>'\n",
              "            + ' to learn more about interactive tables.';\n",
              "          element.innerHTML = '';\n",
              "          dataTable['output_type'] = 'display_data';\n",
              "          await google.colab.output.renderOutput(dataTable, element);\n",
              "          const docLink = document.createElement('div');\n",
              "          docLink.innerHTML = docLinkHtml;\n",
              "          element.appendChild(docLink);\n",
              "        }\n",
              "      </script>\n",
              "    </div>\n",
              "  </div>\n",
              "  "
            ]
          },
          "metadata": {},
          "execution_count": 2
        }
      ],
      "source": [
        "import pandas as pd\n",
        "\n",
        "url_dados = 'https://github.com/alura-cursos/imersaodados3/blob/main/dados/dados_experimentos.zip?raw=true'\n",
        "\n",
        "dados = pd.read_csv(url_dados, compression = 'zip') \n",
        "dados"
      ]
    },
    {
      "cell_type": "markdown",
      "source": [
        "##Entendendo o DataFrame"
      ],
      "metadata": {
        "id": "y8wmzbIESzer"
      }
    },
    {
      "cell_type": "markdown",
      "source": [
        "Tipos de Tratamento"
      ],
      "metadata": {
        "id": "_lgQ78dZJViA"
      }
    },
    {
      "cell_type": "code",
      "source": [
        "dados['tratamento'].unique()"
      ],
      "metadata": {
        "colab": {
          "base_uri": "https://localhost:8080/"
        },
        "id": "LbvAgmY_Q4Qu",
        "outputId": "80263c19-97eb-434f-98c7-351a6e811696"
      },
      "execution_count": 3,
      "outputs": [
        {
          "output_type": "execute_result",
          "data": {
            "text/plain": [
              "array(['com_droga', 'com_controle'], dtype=object)"
            ]
          },
          "metadata": {},
          "execution_count": 3
        }
      ]
    },
    {
      "cell_type": "markdown",
      "source": [
        "Tempo de Tratamento e Obsevação (Provavelmente em Horas)"
      ],
      "metadata": {
        "id": "i1BPCiFzJXn2"
      }
    },
    {
      "cell_type": "code",
      "source": [
        "dados['tempo'].unique()"
      ],
      "metadata": {
        "colab": {
          "base_uri": "https://localhost:8080/"
        },
        "id": "y5WOwLmiRxaS",
        "outputId": "ce33ac1f-793c-463c-b579-c964a7e1b5e3"
      },
      "execution_count": 4,
      "outputs": [
        {
          "output_type": "execute_result",
          "data": {
            "text/plain": [
              "array([24, 72, 48])"
            ]
          },
          "metadata": {},
          "execution_count": 4
        }
      ]
    },
    {
      "cell_type": "markdown",
      "source": [
        "Tipo de Dosagem"
      ],
      "metadata": {
        "id": "4_dmgtSsJf-z"
      }
    },
    {
      "cell_type": "code",
      "source": [
        "dados['dose'].unique()"
      ],
      "metadata": {
        "colab": {
          "base_uri": "https://localhost:8080/"
        },
        "id": "3HU07hmNSAKf",
        "outputId": "2b6ad1c8-4fee-4cb0-e0dd-f5614f791245"
      },
      "execution_count": 5,
      "outputs": [
        {
          "output_type": "execute_result",
          "data": {
            "text/plain": [
              "array(['D1', 'D2'], dtype=object)"
            ]
          },
          "metadata": {},
          "execution_count": 5
        }
      ]
    },
    {
      "cell_type": "markdown",
      "source": [
        "As Drogas Foram Anonimizadas para Não Termos um Viés Afetando a Análise "
      ],
      "metadata": {
        "id": "sx7p1usJS291"
      }
    },
    {
      "cell_type": "code",
      "source": [
        "dados['droga'].unique()"
      ],
      "metadata": {
        "colab": {
          "base_uri": "https://localhost:8080/"
        },
        "id": "M0l9Z2VHSHIT",
        "outputId": "bc69fd20-72b9-406a-9242-e948894f30c6"
      },
      "execution_count": 6,
      "outputs": [
        {
          "output_type": "execute_result",
          "data": {
            "text/plain": [
              "array(['b68db1d53', 'df89a8e5a', '18bb41b2c', ..., '573c787a2',\n",
              "       'b2fe3eca7', 'dd4a96d16'], dtype=object)"
            ]
          },
          "metadata": {},
          "execution_count": 6
        }
      ]
    },
    {
      "cell_type": "markdown",
      "source": [
        "Contagem da Amostra para Tratamento com Droga e Controle"
      ],
      "metadata": {
        "id": "8v7yXq9fJptP"
      }
    },
    {
      "cell_type": "code",
      "source": [
        "dados['tratamento'].value_counts()"
      ],
      "metadata": {
        "colab": {
          "base_uri": "https://localhost:8080/"
        },
        "id": "nx_bzKD4WLTI",
        "outputId": "aadb1fc5-7260-4ffa-92b5-161d55d5666a"
      },
      "execution_count": 7,
      "outputs": [
        {
          "output_type": "execute_result",
          "data": {
            "text/plain": [
              "com_droga       21948\n",
              "com_controle     1866\n",
              "Name: tratamento, dtype: int64"
            ]
          },
          "metadata": {},
          "execution_count": 7
        }
      ]
    },
    {
      "cell_type": "markdown",
      "source": [
        "Contagem da Amostra para Dosagem"
      ],
      "metadata": {
        "id": "2xVZumH6J_Pv"
      }
    },
    {
      "cell_type": "code",
      "source": [
        "dados['dose'].value_counts()"
      ],
      "metadata": {
        "colab": {
          "base_uri": "https://localhost:8080/"
        },
        "id": "Z6bC87dsXqPQ",
        "outputId": "f1837460-e66d-4ba6-ada6-e8d79dd00dd2"
      },
      "execution_count": 8,
      "outputs": [
        {
          "output_type": "execute_result",
          "data": {
            "text/plain": [
              "D1    12147\n",
              "D2    11667\n",
              "Name: dose, dtype: int64"
            ]
          },
          "metadata": {},
          "execution_count": 8
        }
      ]
    },
    {
      "cell_type": "markdown",
      "source": [
        "##Proporção das Classes de Tratamento"
      ],
      "metadata": {
        "id": "0edia5NJX0NV"
      }
    },
    {
      "cell_type": "code",
      "source": [
        "dados['tratamento'].value_counts(normalize = True)"
      ],
      "metadata": {
        "colab": {
          "base_uri": "https://localhost:8080/"
        },
        "id": "MOuZYg2_X5b2",
        "outputId": "631f1e5f-6800-4b04-cfcf-df3af755ee4b"
      },
      "execution_count": 9,
      "outputs": [
        {
          "output_type": "execute_result",
          "data": {
            "text/plain": [
              "com_droga       0.921643\n",
              "com_controle    0.078357\n",
              "Name: tratamento, dtype: float64"
            ]
          },
          "metadata": {},
          "execution_count": 9
        }
      ]
    },
    {
      "cell_type": "code",
      "source": [
        "#Em Porcentagem\n",
        "dados['tratamento'].value_counts(normalize = True)*100"
      ],
      "metadata": {
        "colab": {
          "base_uri": "https://localhost:8080/"
        },
        "id": "GP-RJV_kI5Fj",
        "outputId": "3c7533b6-199e-44d8-c3d2-5ccac873a410"
      },
      "execution_count": 19,
      "outputs": [
        {
          "output_type": "execute_result",
          "data": {
            "text/plain": [
              "com_droga       92.164273\n",
              "com_controle     7.835727\n",
              "Name: tratamento, dtype: float64"
            ]
          },
          "metadata": {},
          "execution_count": 19
        }
      ]
    },
    {
      "cell_type": "code",
      "source": [
        "dados['tratamento'].value_counts().plot.pie(figsize=(10, 5), colors = ['orange','blue'])"
      ],
      "metadata": {
        "colab": {
          "base_uri": "https://localhost:8080/",
          "height": 321
        },
        "id": "4cB8a8SvYihm",
        "outputId": "05579009-a59c-4d09-aa8f-d75654524f6a"
      },
      "execution_count": 10,
      "outputs": [
        {
          "output_type": "execute_result",
          "data": {
            "text/plain": [
              "<matplotlib.axes._subplots.AxesSubplot at 0x7f0b34113090>"
            ]
          },
          "metadata": {},
          "execution_count": 10
        },
        {
          "output_type": "display_data",
          "data": {
            "text/plain": [
              "<Figure size 720x360 with 1 Axes>"
            ],
            "image/png": "[encoded data removed]"
          },
          "metadata": {}
        }
      ]
    },
    {
      "cell_type": "code",
      "source": [
        "dados['dose'].value_counts(normalize = True)"
      ],
      "metadata": {
        "colab": {
          "base_uri": "https://localhost:8080/"
        },
        "id": "wYS5NyfdYOAp",
        "outputId": "cd9d102b-fd03-4fb9-fc88-ecdfd3e916d0"
      },
      "execution_count": 11,
      "outputs": [
        {
          "output_type": "execute_result",
          "data": {
            "text/plain": [
              "D1    0.510078\n",
              "D2    0.489922\n",
              "Name: dose, dtype: float64"
            ]
          },
          "metadata": {},
          "execution_count": 11
        }
      ]
    },
    {
      "cell_type": "code",
      "source": [
        "#Em Porcentagem\n",
        "dados['dose'].value_counts(normalize = True)*100"
      ],
      "metadata": {
        "colab": {
          "base_uri": "https://localhost:8080/"
        },
        "id": "nyY_67vEJGaq",
        "outputId": "5cb7175c-62b7-45c5-cd11-aef492906f53"
      },
      "execution_count": 20,
      "outputs": [
        {
          "output_type": "execute_result",
          "data": {
            "text/plain": [
              "D1    51.007811\n",
              "D2    48.992189\n",
              "Name: dose, dtype: float64"
            ]
          },
          "metadata": {},
          "execution_count": 20
        }
      ]
    },
    {
      "cell_type": "code",
      "source": [
        "dados['tempo'].value_counts().plot.bar()"
      ],
      "metadata": {
        "colab": {
          "base_uri": "https://localhost:8080/",
          "height": 286
        },
        "id": "blrF4cQPaBbc",
        "outputId": "481051b7-bc00-4a21-fcc7-8bac3a5d4082"
      },
      "execution_count": 12,
      "outputs": [
        {
          "output_type": "execute_result",
          "data": {
            "text/plain": [
              "<matplotlib.axes._subplots.AxesSubplot at 0x7f0b341f0b50>"
            ]
          },
          "metadata": {},
          "execution_count": 12
        },
        {
          "output_type": "display_data",
          "data": {
            "text/plain": [
              "<Figure size 432x288 with 1 Axes>"
            ],
            "image/png": "[encoded data removed]"
          },
          "metadata": {
            "needs_background": "light"
          }
        }
      ]
    },
    {
      "cell_type": "markdown",
      "source": [
        "##Quantos Tipos de Drogas foram Utilizados ?"
      ],
      "metadata": {
        "id": "ZhnVhDFpdHYs"
      }
    },
    {
      "cell_type": "markdown",
      "source": [
        "R: 3289 Tipos"
      ],
      "metadata": {
        "id": "RhYxOnOydnwe"
      }
    },
    {
      "cell_type": "code",
      "source": [
        "dados['droga'].value_counts()"
      ],
      "metadata": {
        "colab": {
          "base_uri": "https://localhost:8080/"
        },
        "id": "NVe6ls5qdLPa",
        "outputId": "60c9cd26-c967-40f5-9483-b467283cdb7b"
      },
      "execution_count": 13,
      "outputs": [
        {
          "output_type": "execute_result",
          "data": {
            "text/plain": [
              "cacb2b860    1866\n",
              "87d714366     718\n",
              "9f80f3f77     246\n",
              "8b87a7a83     203\n",
              "5628cb3ee     202\n",
              "             ... \n",
              "32dccc366       1\n",
              "f19d8c43b       1\n",
              "c0521523c       1\n",
              "67c4672f3       1\n",
              "dd4a96d16       1\n",
              "Name: droga, Length: 3289, dtype: int64"
            ]
          },
          "metadata": {},
          "execution_count": 13
        }
      ]
    },
    {
      "cell_type": "markdown",
      "source": [
        "##Na Coluna g-o Quais valores estão acima do Zero ?"
      ],
      "metadata": {
        "id": "dbEMI10ybGpk"
      }
    },
    {
      "cell_type": "code",
      "source": [
        "dados_filtrados = dados[dados['g-0'] > 0]\n",
        "dados_filtrados"
      ],
      "metadata": {
        "colab": {
          "base_uri": "https://localhost:8080/",
          "height": 467
        },
        "id": "gXB0-cgmbL3P",
        "outputId": "661878fa-8ccc-4cd7-e00b-f4cb7344ab15"
      },
      "execution_count": 14,
      "outputs": [
        {
          "output_type": "execute_result",
          "data": {
            "text/plain": [
              "                 id    tratamento  tempo dose      droga     g-0     g-1  \\\n",
              "0      id_000644bb2     com_droga     24   D1  b68db1d53  1.0620  0.5577   \n",
              "1      id_000779bfc     com_droga     72   D1  df89a8e5a  0.0743  0.4087   \n",
              "2      id_000a6266a     com_droga     48   D1  18bb41b2c  0.6280  0.5817   \n",
              "6      id_001bd861f     com_droga     24   D2  746ca1f5a  2.0440  1.7000   \n",
              "7      id_0020d0484     com_droga     48   D1  8b87a7a83  0.2711  0.5133   \n",
              "...             ...           ...    ...  ...        ...     ...     ...   \n",
              "23807  id_fff7e6992     com_droga     48   D1  a28556d51  0.1420 -0.3696   \n",
              "23808  id_fff8c2444     com_droga     72   D1  6c3a459be  0.1608 -1.0500   \n",
              "23809  id_fffb1ceed     com_droga     24   D2  df1d0a5a1  0.1394 -0.0636   \n",
              "23811  id_fffc1c3f4  com_controle     48   D2  cacb2b860  0.3942  0.3756   \n",
              "23812  id_fffcb9e7c     com_droga     24   D1  8b87a7a83  0.6660  0.2324   \n",
              "\n",
              "          g-2     g-3     g-4  ...    c-90    c-91    c-92    c-93    c-94  \\\n",
              "0     -0.2479 -0.6208 -0.1944  ...  0.2862  0.2584  0.8076  0.5523 -0.1912   \n",
              "1      0.2991  0.0604  1.0190  ... -0.4265  0.7543  0.4708  0.0230  0.2957   \n",
              "2      1.5540 -0.0764 -0.0323  ... -0.7250 -0.6297  0.6103  0.0223 -1.3240   \n",
              "6     -1.5390  5.9440 -2.1670  ...  0.1855  1.1720  0.8325  0.6486  0.8090   \n",
              "7     -0.1327  2.5950  0.6980  ...  0.3230 -0.4140  0.2532  0.0513  0.8600   \n",
              "...       ...     ...     ...  ...     ...     ...     ...     ...     ...   \n",
              "23807 -0.0093 -0.2495 -0.0175  ...  0.8775  0.5230  0.1589  0.7715  0.5497   \n",
              "23808  0.2551 -0.2239 -0.2431  ...  0.0789  0.3538  0.0558  0.3377 -0.4753   \n",
              "23809 -0.1112 -0.5080 -0.4713  ...  0.1969  0.0262 -0.8121  0.3434  0.5372   \n",
              "23811  0.3109 -0.7389  0.5505  ...  0.5409  0.3755  0.7343  0.2807  0.4116   \n",
              "23812  0.4392  0.2044  0.8531  ... -0.1105  0.4258 -0.2012  0.1506  1.5230   \n",
              "\n",
              "         c-95    c-96    c-97    c-98    c-99  \n",
              "0      0.6584 -0.3981  0.2139  0.3801  0.4176  \n",
              "1      0.4899  0.1522  0.1241  0.6077  0.7371  \n",
              "2     -0.3174 -0.6417 -0.2187 -1.4080  0.6931  \n",
              "6      1.5880  2.4670  0.0357  0.1351 -0.3179  \n",
              "7      1.4250  0.6633  0.4562 -0.9622  0.0260  \n",
              "...       ...     ...     ...     ...     ...  \n",
              "23807  0.6929  0.3738  0.8636  0.4494  0.1218  \n",
              "23808 -0.2504 -0.7415  0.8413 -0.4259  0.2434  \n",
              "23809 -0.3246  0.0631  0.9171  0.5258  0.4680  \n",
              "23811  0.6422  0.2256  0.7592  0.6656  0.3808  \n",
              "23812  0.7101  0.1732  0.7015 -0.6290  0.0740  \n",
              "\n",
              "[11769 rows x 877 columns]"
            ],
            "text/html": [
              "\n",
              "  <div id=\"df-45b68615-2102-4d62-b276-524a14b9e50c\">\n",
              "    <div class=\"colab-df-container\">\n",
              "      <div>\n",
              "<style scoped>\n",
              "    .dataframe tbody tr th:only-of-type {\n",
              "        vertical-align: middle;\n",
              "    }\n",
              "\n",
              "    .dataframe tbody tr th {\n",
              "        vertical-align: top;\n",
              "    }\n",
              "\n",
              "    .dataframe thead th {\n",
              "        text-align: right;\n",
              "    }\n",
              "</style>\n",
              "<table border=\"1\" class=\"dataframe\">\n",
              "  <thead>\n",
              "    <tr style=\"text-align: right;\">\n",
              "      <th></th>\n",
              "      <th>id</th>\n",
              "      <th>tratamento</th>\n",
              "      <th>tempo</th>\n",
              "      <th>dose</th>\n",
              "      <th>droga</th>\n",
              "      <th>g-0</th>\n",
              "      <th>g-1</th>\n",
              "      <th>g-2</th>\n",
              "      <th>g-3</th>\n",
              "      <th>g-4</th>\n",
              "      <th>...</th>\n",
              "      <th>c-90</th>\n",
              "      <th>c-91</th>\n",
              "      <th>c-92</th>\n",
              "      <th>c-93</th>\n",
              "      <th>c-94</th>\n",
              "      <th>c-95</th>\n",
              "      <th>c-96</th>\n",
              "      <th>c-97</th>\n",
              "      <th>c-98</th>\n",
              "      <th>c-99</th>\n",
              "    </tr>\n",
              "  </thead>\n",
              "  <tbody>\n",
              "    <tr>\n",
              "      <th>0</th>\n",
              "      <td>id_000644bb2</td>\n",
              "      <td>com_droga</td>\n",
              "      <td>24</td>\n",
              "      <td>D1</td>\n",
              "      <td>b68db1d53</td>\n",
              "      <td>1.0620</td>\n",
              "      <td>0.5577</td>\n",
              "      <td>-0.2479</td>\n",
              "      <td>-0.6208</td>\n",
              "      <td>-0.1944</td>\n",
              "      <td>...</td>\n",
              "      <td>0.2862</td>\n",
              "      <td>0.2584</td>\n",
              "      <td>0.8076</td>\n",
              "      <td>0.5523</td>\n",
              "      <td>-0.1912</td>\n",
              "      <td>0.6584</td>\n",
              "      <td>-0.3981</td>\n",
              "      <td>0.2139</td>\n",
              "      <td>0.3801</td>\n",
              "      <td>0.4176</td>\n",
              "    </tr>\n",
              "    <tr>\n",
              "      <th>1</th>\n",
              "      <td>id_000779bfc</td>\n",
              "      <td>com_droga</td>\n",
              "      <td>72</td>\n",
              "      <td>D1</td>\n",
              "      <td>df89a8e5a</td>\n",
              "      <td>0.0743</td>\n",
              "      <td>0.4087</td>\n",
              "      <td>0.2991</td>\n",
              "      <td>0.0604</td>\n",
              "      <td>1.0190</td>\n",
              "      <td>...</td>\n",
              "      <td>-0.4265</td>\n",
              "      <td>0.7543</td>\n",
              "      <td>0.4708</td>\n",
              "      <td>0.0230</td>\n",
              "      <td>0.2957</td>\n",
              "      <td>0.4899</td>\n",
              "      <td>0.1522</td>\n",
              "      <td>0.1241</td>\n",
              "      <td>0.6077</td>\n",
              "      <td>0.7371</td>\n",
              "    </tr>\n",
              "    <tr>\n",
              "      <th>2</th>\n",
              "      <td>id_000a6266a</td>\n",
              "      <td>com_droga</td>\n",
              "      <td>48</td>\n",
              "      <td>D1</td>\n",
              "      <td>18bb41b2c</td>\n",
              "      <td>0.6280</td>\n",
              "      <td>0.5817</td>\n",
              "      <td>1.5540</td>\n",
              "      <td>-0.0764</td>\n",
              "      <td>-0.0323</td>\n",
              "      <td>...</td>\n",
              "      <td>-0.7250</td>\n",
              "      <td>-0.6297</td>\n",
              "      <td>0.6103</td>\n",
              "      <td>0.0223</td>\n",
              "      <td>-1.3240</td>\n",
              "      <td>-0.3174</td>\n",
              "      <td>-0.6417</td>\n",
              "      <td>-0.2187</td>\n",
              "      <td>-1.4080</td>\n",
              "      <td>0.6931</td>\n",
              "    </tr>\n",
              "    <tr>\n",
              "      <th>6</th>\n",
              "      <td>id_001bd861f</td>\n",
              "      <td>com_droga</td>\n",
              "      <td>24</td>\n",
              "      <td>D2</td>\n",
              "      <td>746ca1f5a</td>\n",
              "      <td>2.0440</td>\n",
              "      <td>1.7000</td>\n",
              "      <td>-1.5390</td>\n",
              "      <td>5.9440</td>\n",
              "      <td>-2.1670</td>\n",
              "      <td>...</td>\n",
              "      <td>0.1855</td>\n",
              "      <td>1.1720</td>\n",
              "      <td>0.8325</td>\n",
              "      <td>0.6486</td>\n",
              "      <td>0.8090</td>\n",
              "      <td>1.5880</td>\n",
              "      <td>2.4670</td>\n",
              "      <td>0.0357</td>\n",
              "      <td>0.1351</td>\n",
              "      <td>-0.3179</td>\n",
              "    </tr>\n",
              "    <tr>\n",
              "      <th>7</th>\n",
              "      <td>id_0020d0484</td>\n",
              "      <td>com_droga</td>\n",
              "      <td>48</td>\n",
              "      <td>D1</td>\n",
              "      <td>8b87a7a83</td>\n",
              "      <td>0.2711</td>\n",
              "      <td>0.5133</td>\n",
              "      <td>-0.1327</td>\n",
              "      <td>2.5950</td>\n",
              "      <td>0.6980</td>\n",
              "      <td>...</td>\n",
              "      <td>0.3230</td>\n",
              "      <td>-0.4140</td>\n",
              "      <td>0.2532</td>\n",
              "      <td>0.0513</td>\n",
              "      <td>0.8600</td>\n",
              "      <td>1.4250</td>\n",
              "      <td>0.6633</td>\n",
              "      <td>0.4562</td>\n",
              "      <td>-0.9622</td>\n",
              "      <td>0.0260</td>\n",
              "    </tr>\n",
              "    <tr>\n",
              "      <th>...</th>\n",
              "      <td>...</td>\n",
              "      <td>...</td>\n",
              "      <td>...</td>\n",
              "      <td>...</td>\n",
              "      <td>...</td>\n",
              "      <td>...</td>\n",
              "      <td>...</td>\n",
              "      <td>...</td>\n",
              "      <td>...</td>\n",
              "      <td>...</td>\n",
              "      <td>...</td>\n",
              "      <td>...</td>\n",
              "      <td>...</td>\n",
              "      <td>...</td>\n",
              "      <td>...</td>\n",
              "      <td>...</td>\n",
              "      <td>...</td>\n",
              "      <td>...</td>\n",
              "      <td>...</td>\n",
              "      <td>...</td>\n",
              "      <td>...</td>\n",
              "    </tr>\n",
              "    <tr>\n",
              "      <th>23807</th>\n",
              "      <td>id_fff7e6992</td>\n",
              "      <td>com_droga</td>\n",
              "      <td>48</td>\n",
              "      <td>D1</td>\n",
              "      <td>a28556d51</td>\n",
              "      <td>0.1420</td>\n",
              "      <td>-0.3696</td>\n",
              "      <td>-0.0093</td>\n",
              "      <td>-0.2495</td>\n",
              "      <td>-0.0175</td>\n",
              "      <td>...</td>\n",
              "      <td>0.8775</td>\n",
              "      <td>0.5230</td>\n",
              "      <td>0.1589</td>\n",
              "      <td>0.7715</td>\n",
              "      <td>0.5497</td>\n",
              "      <td>0.6929</td>\n",
              "      <td>0.3738</td>\n",
              "      <td>0.8636</td>\n",
              "      <td>0.4494</td>\n",
              "      <td>0.1218</td>\n",
              "    </tr>\n",
              "    <tr>\n",
              "      <th>23808</th>\n",
              "      <td>id_fff8c2444</td>\n",
              "      <td>com_droga</td>\n",
              "      <td>72</td>\n",
              "      <td>D1</td>\n",
              "      <td>6c3a459be</td>\n",
              "      <td>0.1608</td>\n",
              "      <td>-1.0500</td>\n",
              "      <td>0.2551</td>\n",
              "      <td>-0.2239</td>\n",
              "      <td>-0.2431</td>\n",
              "      <td>...</td>\n",
              "      <td>0.0789</td>\n",
              "      <td>0.3538</td>\n",
              "      <td>0.0558</td>\n",
              "      <td>0.3377</td>\n",
              "      <td>-0.4753</td>\n",
              "      <td>-0.2504</td>\n",
              "      <td>-0.7415</td>\n",
              "      <td>0.8413</td>\n",
              "      <td>-0.4259</td>\n",
              "      <td>0.2434</td>\n",
              "    </tr>\n",
              "    <tr>\n",
              "      <th>23809</th>\n",
              "      <td>id_fffb1ceed</td>\n",
              "      <td>com_droga</td>\n",
              "      <td>24</td>\n",
              "      <td>D2</td>\n",
              "      <td>df1d0a5a1</td>\n",
              "      <td>0.1394</td>\n",
              "      <td>-0.0636</td>\n",
              "      <td>-0.1112</td>\n",
              "      <td>-0.5080</td>\n",
              "      <td>-0.4713</td>\n",
              "      <td>...</td>\n",
              "      <td>0.1969</td>\n",
              "      <td>0.0262</td>\n",
              "      <td>-0.8121</td>\n",
              "      <td>0.3434</td>\n",
              "      <td>0.5372</td>\n",
              "      <td>-0.3246</td>\n",
              "      <td>0.0631</td>\n",
              "      <td>0.9171</td>\n",
              "      <td>0.5258</td>\n",
              "      <td>0.4680</td>\n",
              "    </tr>\n",
              "    <tr>\n",
              "      <th>23811</th>\n",
              "      <td>id_fffc1c3f4</td>\n",
              "      <td>com_controle</td>\n",
              "      <td>48</td>\n",
              "      <td>D2</td>\n",
              "      <td>cacb2b860</td>\n",
              "      <td>0.3942</td>\n",
              "      <td>0.3756</td>\n",
              "      <td>0.3109</td>\n",
              "      <td>-0.7389</td>\n",
              "      <td>0.5505</td>\n",
              "      <td>...</td>\n",
              "      <td>0.5409</td>\n",
              "      <td>0.3755</td>\n",
              "      <td>0.7343</td>\n",
              "      <td>0.2807</td>\n",
              "      <td>0.4116</td>\n",
              "      <td>0.6422</td>\n",
              "      <td>0.2256</td>\n",
              "      <td>0.7592</td>\n",
              "      <td>0.6656</td>\n",
              "      <td>0.3808</td>\n",
              "    </tr>\n",
              "    <tr>\n",
              "      <th>23812</th>\n",
              "      <td>id_fffcb9e7c</td>\n",
              "      <td>com_droga</td>\n",
              "      <td>24</td>\n",
              "      <td>D1</td>\n",
              "      <td>8b87a7a83</td>\n",
              "      <td>0.6660</td>\n",
              "      <td>0.2324</td>\n",
              "      <td>0.4392</td>\n",
              "      <td>0.2044</td>\n",
              "      <td>0.8531</td>\n",
              "      <td>...</td>\n",
              "      <td>-0.1105</td>\n",
              "      <td>0.4258</td>\n",
              "      <td>-0.2012</td>\n",
              "      <td>0.1506</td>\n",
              "      <td>1.5230</td>\n",
              "      <td>0.7101</td>\n",
              "      <td>0.1732</td>\n",
              "      <td>0.7015</td>\n",
              "      <td>-0.6290</td>\n",
              "      <td>0.0740</td>\n",
              "    </tr>\n",
              "  </tbody>\n",
              "</table>\n",
              "<p>11769 rows × 877 columns</p>\n",
              "</div>\n",
              "      <button class=\"colab-df-convert\" onclick=\"convertToInteractive('df-45b68615-2102-4d62-b276-524a14b9e50c')\"\n",
              "              title=\"Convert this dataframe to an interactive table.\"\n",
              "              style=\"display:none;\">\n",
              "        \n",
              "  <svg xmlns=\"http://www.w3.org/2000/svg\" height=\"24px\"viewBox=\"0 0 24 24\"\n",
              "       width=\"24px\">\n",
              "    <path d=\"M0 0h24v24H0V0z\" fill=\"none\"/>\n",
              "    <path d=\"M18.56 5.44l.94 2.06.94-2.06 2.06-.94-2.06-.94-.94-2.06-.94 2.06-2.06.94zm-11 1L8.5 8.5l.94-2.06 2.06-.94-2.06-.94L8.5 2.5l-.94 2.06-2.06.94zm10 10l.94 2.06.94-2.06 2.06-.94-2.06-.94-.94-2.06-.94 2.06-2.06.94z\"/><path d=\"M17.41 7.96l-1.37-1.37c-.4-.4-.92-.59-1.43-.59-.52 0-1.04.2-1.43.59L10.3 9.45l-7.72 7.72c-.78.78-.78 2.05 0 2.83L4 21.41c.39.39.9.59 1.41.59.51 0 1.02-.2 1.41-.59l7.78-7.78 2.81-2.81c.8-.78.8-2.07 0-2.86zM5.41 20L4 18.59l7.72-7.72 1.47 1.35L5.41 20z\"/>\n",
              "  </svg>\n",
              "      </button>\n",
              "      \n",
              "  <style>\n",
              "    .colab-df-container {\n",
              "      display:flex;\n",
              "      flex-wrap:wrap;\n",
              "      gap: 12px;\n",
              "    }\n",
              "\n",
              "    .colab-df-convert {\n",
              "      background-color: #E8F0FE;\n",
              "      border: none;\n",
              "      border-radius: 50%;\n",
              "      cursor: pointer;\n",
              "      display: none;\n",
              "      fill: #1967D2;\n",
              "      height: 32px;\n",
              "      padding: 0 0 0 0;\n",
              "      width: 32px;\n",
              "    }\n",
              "\n",
              "    .colab-df-convert:hover {\n",
              "      background-color: #E2EBFA;\n",
              "      box-shadow: 0px 1px 2px rgba(60, 64, 67, 0.3), 0px 1px 3px 1px rgba(60, 64, 67, 0.15);\n",
              "      fill: #174EA6;\n",
              "    }\n",
              "\n",
              "    [theme=dark] .colab-df-convert {\n",
              "      background-color: #3B4455;\n",
              "      fill: #D2E3FC;\n",
              "    }\n",
              "\n",
              "    [theme=dark] .colab-df-convert:hover {\n",
              "      background-color: #434B5C;\n",
              "      box-shadow: 0px 1px 3px 1px rgba(0, 0, 0, 0.15);\n",
              "      filter: drop-shadow(0px 1px 2px rgba(0, 0, 0, 0.3));\n",
              "      fill: #FFFFFF;\n",
              "    }\n",
              "  </style>\n",
              "\n",
              "      <script>\n",
              "        const buttonEl =\n",
              "          document.querySelector('#df-45b68615-2102-4d62-b276-524a14b9e50c button.colab-df-convert');\n",
              "        buttonEl.style.display =\n",
              "          google.colab.kernel.accessAllowed ? 'block' : 'none';\n",
              "\n",
              "        async function convertToInteractive(key) {\n",
              "          const element = document.querySelector('#df-45b68615-2102-4d62-b276-524a14b9e50c');\n",
              "          const dataTable =\n",
              "            await google.colab.kernel.invokeFunction('convertToInteractive',\n",
              "                                                     [key], {});\n",
              "          if (!dataTable) return;\n",
              "\n",
              "          const docLinkHtml = 'Like what you see? Visit the ' +\n",
              "            '<a target=\"_blank\" href=https://colab.research.google.com/notebooks/data_table.ipynb>data table notebook</a>'\n",
              "            + ' to learn more about interactive tables.';\n",
              "          element.innerHTML = '';\n",
              "          dataTable['output_type'] = 'display_data';\n",
              "          await google.colab.output.renderOutput(dataTable, element);\n",
              "          const docLink = document.createElement('div');\n",
              "          docLink.innerHTML = docLinkHtml;\n",
              "          element.appendChild(docLink);\n",
              "        }\n",
              "      </script>\n",
              "    </div>\n",
              "  </div>\n",
              "  "
            ]
          },
          "metadata": {},
          "execution_count": 14
        }
      ]
    },
    {
      "cell_type": "markdown",
      "source": [
        "##Substituindo os Hífens das Colunas \n"
      ],
      "metadata": {
        "id": "ByJZNcQnH7tZ"
      }
    },
    {
      "cell_type": "code",
      "source": [
        "dados.columns"
      ],
      "metadata": {
        "colab": {
          "base_uri": "https://localhost:8080/"
        },
        "id": "oBGBTyVNIAPy",
        "outputId": "b1d2d4d0-cca7-41f4-ee1d-79736901c7fb"
      },
      "execution_count": 15,
      "outputs": [
        {
          "output_type": "execute_result",
          "data": {
            "text/plain": [
              "Index(['id', 'tratamento', 'tempo', 'dose', 'droga', 'g-0', 'g-1', 'g-2',\n",
              "       'g-3', 'g-4',\n",
              "       ...\n",
              "       'c-90', 'c-91', 'c-92', 'c-93', 'c-94', 'c-95', 'c-96', 'c-97', 'c-98',\n",
              "       'c-99'],\n",
              "      dtype='object', length=877)"
            ]
          },
          "metadata": {},
          "execution_count": 15
        }
      ]
    },
    {
      "cell_type": "code",
      "source": [
        "nome_colunas = dados.columns"
      ],
      "metadata": {
        "id": "9_ZAQGKjIFS7"
      },
      "execution_count": 16,
      "outputs": []
    },
    {
      "cell_type": "code",
      "source": [
        "novo_nome_coluna = []\n",
        "\n",
        "for coluna in nome_colunas:\n",
        "  coluna = coluna.replace('-', '_')\n",
        "  novo_nome_coluna.append(coluna)\n",
        "\n",
        "dados.columns = novo_nome_coluna \n",
        "dados.head()"
      ],
      "metadata": {
        "colab": {
          "base_uri": "https://localhost:8080/",
          "height": 279
        },
        "id": "BdEwyw5tIVGZ",
        "outputId": "4dcf3571-ddb2-4443-9a62-2b999d1d886f"
      },
      "execution_count": 17,
      "outputs": [
        {
          "output_type": "execute_result",
          "data": {
            "text/plain": [
              "             id tratamento  tempo dose      droga     g_0     g_1     g_2  \\\n",
              "0  id_000644bb2  com_droga     24   D1  b68db1d53  1.0620  0.5577 -0.2479   \n",
              "1  id_000779bfc  com_droga     72   D1  df89a8e5a  0.0743  0.4087  0.2991   \n",
              "2  id_000a6266a  com_droga     48   D1  18bb41b2c  0.6280  0.5817  1.5540   \n",
              "3  id_0015fd391  com_droga     48   D1  8c7f86626 -0.5138 -0.2491 -0.2656   \n",
              "4  id_001626bd3  com_droga     72   D2  7cbed3131 -0.3254 -0.4009  0.9700   \n",
              "\n",
              "      g_3     g_4  ...    c_90    c_91    c_92    c_93    c_94    c_95  \\\n",
              "0 -0.6208 -0.1944  ...  0.2862  0.2584  0.8076  0.5523 -0.1912  0.6584   \n",
              "1  0.0604  1.0190  ... -0.4265  0.7543  0.4708  0.0230  0.2957  0.4899   \n",
              "2 -0.0764 -0.0323  ... -0.7250 -0.6297  0.6103  0.0223 -1.3240 -0.3174   \n",
              "3  0.5288  4.0620  ... -2.0990 -0.6441 -5.6300 -1.3780 -0.8632 -1.2880   \n",
              "4  0.6919  1.4180  ...  0.0042  0.0048  0.6670  1.0690  0.5523 -0.3031   \n",
              "\n",
              "     c_96    c_97    c_98    c_99  \n",
              "0 -0.3981  0.2139  0.3801  0.4176  \n",
              "1  0.1522  0.1241  0.6077  0.7371  \n",
              "2 -0.6417 -0.2187 -1.4080  0.6931  \n",
              "3 -1.6210 -0.8784 -0.3876 -0.8154  \n",
              "4  0.1094  0.2885 -0.3786  0.7125  \n",
              "\n",
              "[5 rows x 877 columns]"
            ],
            "text/html": [
              "\n",
              "  <div id=\"df-53e0d4db-22bd-4174-b4b4-abfea5496ec7\">\n",
              "    <div class=\"colab-df-container\">\n",
              "      <div>\n",
              "<style scoped>\n",
              "    .dataframe tbody tr th:only-of-type {\n",
              "        vertical-align: middle;\n",
              "    }\n",
              "\n",
              "    .dataframe tbody tr th {\n",
              "        vertical-align: top;\n",
              "    }\n",
              "\n",
              "    .dataframe thead th {\n",
              "        text-align: right;\n",
              "    }\n",
              "</style>\n",
              "<table border=\"1\" class=\"dataframe\">\n",
              "  <thead>\n",
              "    <tr style=\"text-align: right;\">\n",
              "      <th></th>\n",
              "      <th>id</th>\n",
              "      <th>tratamento</th>\n",
              "      <th>tempo</th>\n",
              "      <th>dose</th>\n",
              "      <th>droga</th>\n",
              "      <th>g_0</th>\n",
              "      <th>g_1</th>\n",
              "      <th>g_2</th>\n",
              "      <th>g_3</th>\n",
              "      <th>g_4</th>\n",
              "      <th>...</th>\n",
              "      <th>c_90</th>\n",
              "      <th>c_91</th>\n",
              "      <th>c_92</th>\n",
              "      <th>c_93</th>\n",
              "      <th>c_94</th>\n",
              "      <th>c_95</th>\n",
              "      <th>c_96</th>\n",
              "      <th>c_97</th>\n",
              "      <th>c_98</th>\n",
              "      <th>c_99</th>\n",
              "    </tr>\n",
              "  </thead>\n",
              "  <tbody>\n",
              "    <tr>\n",
              "      <th>0</th>\n",
              "      <td>id_000644bb2</td>\n",
              "      <td>com_droga</td>\n",
              "      <td>24</td>\n",
              "      <td>D1</td>\n",
              "      <td>b68db1d53</td>\n",
              "      <td>1.0620</td>\n",
              "      <td>0.5577</td>\n",
              "      <td>-0.2479</td>\n",
              "      <td>-0.6208</td>\n",
              "      <td>-0.1944</td>\n",
              "      <td>...</td>\n",
              "      <td>0.2862</td>\n",
              "      <td>0.2584</td>\n",
              "      <td>0.8076</td>\n",
              "      <td>0.5523</td>\n",
              "      <td>-0.1912</td>\n",
              "      <td>0.6584</td>\n",
              "      <td>-0.3981</td>\n",
              "      <td>0.2139</td>\n",
              "      <td>0.3801</td>\n",
              "      <td>0.4176</td>\n",
              "    </tr>\n",
              "    <tr>\n",
              "      <th>1</th>\n",
              "      <td>id_000779bfc</td>\n",
              "      <td>com_droga</td>\n",
              "      <td>72</td>\n",
              "      <td>D1</td>\n",
              "      <td>df89a8e5a</td>\n",
              "      <td>0.0743</td>\n",
              "      <td>0.4087</td>\n",
              "      <td>0.2991</td>\n",
              "      <td>0.0604</td>\n",
              "      <td>1.0190</td>\n",
              "      <td>...</td>\n",
              "      <td>-0.4265</td>\n",
              "      <td>0.7543</td>\n",
              "      <td>0.4708</td>\n",
              "      <td>0.0230</td>\n",
              "      <td>0.2957</td>\n",
              "      <td>0.4899</td>\n",
              "      <td>0.1522</td>\n",
              "      <td>0.1241</td>\n",
              "      <td>0.6077</td>\n",
              "      <td>0.7371</td>\n",
              "    </tr>\n",
              "    <tr>\n",
              "      <th>2</th>\n",
              "      <td>id_000a6266a</td>\n",
              "      <td>com_droga</td>\n",
              "      <td>48</td>\n",
              "      <td>D1</td>\n",
              "      <td>18bb41b2c</td>\n",
              "      <td>0.6280</td>\n",
              "      <td>0.5817</td>\n",
              "      <td>1.5540</td>\n",
              "      <td>-0.0764</td>\n",
              "      <td>-0.0323</td>\n",
              "      <td>...</td>\n",
              "      <td>-0.7250</td>\n",
              "      <td>-0.6297</td>\n",
              "      <td>0.6103</td>\n",
              "      <td>0.0223</td>\n",
              "      <td>-1.3240</td>\n",
              "      <td>-0.3174</td>\n",
              "      <td>-0.6417</td>\n",
              "      <td>-0.2187</td>\n",
              "      <td>-1.4080</td>\n",
              "      <td>0.6931</td>\n",
              "    </tr>\n",
              "    <tr>\n",
              "      <th>3</th>\n",
              "      <td>id_0015fd391</td>\n",
              "      <td>com_droga</td>\n",
              "      <td>48</td>\n",
              "      <td>D1</td>\n",
              "      <td>8c7f86626</td>\n",
              "      <td>-0.5138</td>\n",
              "      <td>-0.2491</td>\n",
              "      <td>-0.2656</td>\n",
              "      <td>0.5288</td>\n",
              "      <td>4.0620</td>\n",
              "      <td>...</td>\n",
              "      <td>-2.0990</td>\n",
              "      <td>-0.6441</td>\n",
              "      <td>-5.6300</td>\n",
              "      <td>-1.3780</td>\n",
              "      <td>-0.8632</td>\n",
              "      <td>-1.2880</td>\n",
              "      <td>-1.6210</td>\n",
              "      <td>-0.8784</td>\n",
              "      <td>-0.3876</td>\n",
              "      <td>-0.8154</td>\n",
              "    </tr>\n",
              "    <tr>\n",
              "      <th>4</th>\n",
              "      <td>id_001626bd3</td>\n",
              "      <td>com_droga</td>\n",
              "      <td>72</td>\n",
              "      <td>D2</td>\n",
              "      <td>7cbed3131</td>\n",
              "      <td>-0.3254</td>\n",
              "      <td>-0.4009</td>\n",
              "      <td>0.9700</td>\n",
              "      <td>0.6919</td>\n",
              "      <td>1.4180</td>\n",
              "      <td>...</td>\n",
              "      <td>0.0042</td>\n",
              "      <td>0.0048</td>\n",
              "      <td>0.6670</td>\n",
              "      <td>1.0690</td>\n",
              "      <td>0.5523</td>\n",
              "      <td>-0.3031</td>\n",
              "      <td>0.1094</td>\n",
              "      <td>0.2885</td>\n",
              "      <td>-0.3786</td>\n",
              "      <td>0.7125</td>\n",
              "    </tr>\n",
              "  </tbody>\n",
              "</table>\n",
              "<p>5 rows × 877 columns</p>\n",
              "</div>\n",
              "      <button class=\"colab-df-convert\" onclick=\"convertToInteractive('df-53e0d4db-22bd-4174-b4b4-abfea5496ec7')\"\n",
              "              title=\"Convert this dataframe to an interactive table.\"\n",
              "              style=\"display:none;\">\n",
              "        \n",
              "  <svg xmlns=\"http://www.w3.org/2000/svg\" height=\"24px\"viewBox=\"0 0 24 24\"\n",
              "       width=\"24px\">\n",
              "    <path d=\"M0 0h24v24H0V0z\" fill=\"none\"/>\n",
              "    <path d=\"M18.56 5.44l.94 2.06.94-2.06 2.06-.94-2.06-.94-.94-2.06-.94 2.06-2.06.94zm-11 1L8.5 8.5l.94-2.06 2.06-.94-2.06-.94L8.5 2.5l-.94 2.06-2.06.94zm10 10l.94 2.06.94-2.06 2.06-.94-2.06-.94-.94-2.06-.94 2.06-2.06.94z\"/><path d=\"M17.41 7.96l-1.37-1.37c-.4-.4-.92-.59-1.43-.59-.52 0-1.04.2-1.43.59L10.3 9.45l-7.72 7.72c-.78.78-.78 2.05 0 2.83L4 21.41c.39.39.9.59 1.41.59.51 0 1.02-.2 1.41-.59l7.78-7.78 2.81-2.81c.8-.78.8-2.07 0-2.86zM5.41 20L4 18.59l7.72-7.72 1.47 1.35L5.41 20z\"/>\n",
              "  </svg>\n",
              "      </button>\n",
              "      \n",
              "  <style>\n",
              "    .colab-df-container {\n",
              "      display:flex;\n",
              "      flex-wrap:wrap;\n",
              "      gap: 12px;\n",
              "    }\n",
              "\n",
              "    .colab-df-convert {\n",
              "      background-color: #E8F0FE;\n",
              "      border: none;\n",
              "      border-radius: 50%;\n",
              "      cursor: pointer;\n",
              "      display: none;\n",
              "      fill: #1967D2;\n",
              "      height: 32px;\n",
              "      padding: 0 0 0 0;\n",
              "      width: 32px;\n",
              "    }\n",
              "\n",
              "    .colab-df-convert:hover {\n",
              "      background-color: #E2EBFA;\n",
              "      box-shadow: 0px 1px 2px rgba(60, 64, 67, 0.3), 0px 1px 3px 1px rgba(60, 64, 67, 0.15);\n",
              "      fill: #174EA6;\n",
              "    }\n",
              "\n",
              "    [theme=dark] .colab-df-convert {\n",
              "      background-color: #3B4455;\n",
              "      fill: #D2E3FC;\n",
              "    }\n",
              "\n",
              "    [theme=dark] .colab-df-convert:hover {\n",
              "      background-color: #434B5C;\n",
              "      box-shadow: 0px 1px 3px 1px rgba(0, 0, 0, 0.15);\n",
              "      filter: drop-shadow(0px 1px 2px rgba(0, 0, 0, 0.3));\n",
              "      fill: #FFFFFF;\n",
              "    }\n",
              "  </style>\n",
              "\n",
              "      <script>\n",
              "        const buttonEl =\n",
              "          document.querySelector('#df-53e0d4db-22bd-4174-b4b4-abfea5496ec7 button.colab-df-convert');\n",
              "        buttonEl.style.display =\n",
              "          google.colab.kernel.accessAllowed ? 'block' : 'none';\n",
              "\n",
              "        async function convertToInteractive(key) {\n",
              "          const element = document.querySelector('#df-53e0d4db-22bd-4174-b4b4-abfea5496ec7');\n",
              "          const dataTable =\n",
              "            await google.colab.kernel.invokeFunction('convertToInteractive',\n",
              "                                                     [key], {});\n",
              "          if (!dataTable) return;\n",
              "\n",
              "          const docLinkHtml = 'Like what you see? Visit the ' +\n",
              "            '<a target=\"_blank\" href=https://colab.research.google.com/notebooks/data_table.ipynb>data table notebook</a>'\n",
              "            + ' to learn more about interactive tables.';\n",
              "          element.innerHTML = '';\n",
              "          dataTable['output_type'] = 'display_data';\n",
              "          await google.colab.output.renderOutput(dataTable, element);\n",
              "          const docLink = document.createElement('div');\n",
              "          docLink.innerHTML = docLinkHtml;\n",
              "          element.appendChild(docLink);\n",
              "        }\n",
              "      </script>\n",
              "    </div>\n",
              "  </div>\n",
              "  "
            ]
          },
          "metadata": {},
          "execution_count": 17
        }
      ]
    }
  ]
}